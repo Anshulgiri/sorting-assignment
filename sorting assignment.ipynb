{
 "cells": [
  {
   "cell_type": "code",
   "execution_count": 1,
   "id": "75fcbc29-de5a-4c09-857d-ca690953c795",
   "metadata": {},
   "outputs": [
    {
     "name": "stdout",
     "output_type": "stream",
     "text": [
      "the most frequent number of list is: 44\n",
      "the number appeared  3 time in list\n"
     ]
    }
   ],
   "source": [
    "list = [22,33,44,55,66,77,44,66,4,44,4]\n",
    "count = 0\n",
    "temp = 0\n",
    "index = 0\n",
    "for x in range (0,len(list)):\n",
    "    temp = list.count(list[x])\n",
    "    \n",
    "    \n",
    "    if (temp>count):\n",
    "        count = temp\n",
    "        index = x\n",
    "        \n",
    "mostFrequentNumber = list[index]\n",
    "print(\"the most frequent number of list is:\", mostFrequentNumber)\n",
    "print(\"the number appeared \", count, \"time in list\")"
   ]
  },
  {
   "cell_type": "code",
   "execution_count": 13,
   "id": "493392b2-0578-493a-b038-9f07d2b8e4ba",
   "metadata": {},
   "outputs": [
    {
     "name": "stdin",
     "output_type": "stream",
     "text": [
      "enter the length of the array  7\n",
      "enter the element/number 2\n",
      "enter the element/number 1\n",
      "enter the element/number 4\n",
      "enter the element/number 6\n",
      "enter the element/number 3\n",
      "enter the element/number 7\n"
     ]
    },
    {
     "name": "stdout",
     "output_type": "stream",
     "text": [
      "the missing number is 5.0 \n"
     ]
    }
   ],
   "source": [
    "def findmissing(arr ,n):\n",
    "    expected_sum = n* (n+1) /2 \n",
    "    actual_sum = sum(arr)\n",
    "    return expected_sum - actual_sum\n",
    "\n",
    "if __name__ == '__main__':\n",
    "    arr =[]\n",
    "    n = int(input(\"enter the length of the array \"))\n",
    "      \n",
    "        \n",
    "    for i in range(n-1):\n",
    "        n = int(input(\"enter the element/number\"))\n",
    "        arr.append(n)\n",
    "        \n",
    "        \n",
    "    missing_number = findmissing(arr, n)\n",
    "    \n",
    "    print(\"the missing number is {} \".format(missing_number))\n",
    "        \n",
    "        "
   ]
  },
  {
   "cell_type": "code",
   "execution_count": 15,
   "id": "21cef8d6-ad39-450c-91d4-d20975fdf622",
   "metadata": {},
   "outputs": [
    {
     "name": "stdout",
     "output_type": "stream",
     "text": [
      "odd Occurence is  4\n"
     ]
    }
   ],
   "source": [
    "def find_occ(list):\n",
    "    for i in list:\n",
    "        if list.count(i)%2 != 0:\n",
    "            return i\n",
    "        \n",
    "list = [1,2,2,3,3,3,4,3,3,3,2,2,1]\n",
    "print(\"odd Occurence is \", find_occ(list))\n",
    "            "
   ]
  },
  {
   "cell_type": "code",
   "execution_count": 17,
   "id": "bcbec9a4-5d70-4ba1-a11a-f3d2b7d38874",
   "metadata": {},
   "outputs": [
    {
     "ename": "SyntaxError",
     "evalue": "invalid syntax (957230505.py, line 12)",
     "output_type": "error",
     "traceback": [
      "\u001b[0;36m  Cell \u001b[0;32mIn[17], line 12\u001b[0;36m\u001b[0m\n\u001b[0;31m    elif(arr[left]+arr[right]==sum:\u001b[0m\n\u001b[0m                                  ^\u001b[0m\n\u001b[0;31mSyntaxError\u001b[0m\u001b[0;31m:\u001b[0m invalid syntax\n"
     ]
    }
   ],
   "source": [
    "def twosum (arr , sum):\n",
    "    arr.sort()\n",
    "    left = 0\n",
    "    right = len(arr)-1\n",
    "    while(left <= right):\n",
    "        if (arr[left] + arr[right] >sum):\n",
    "            right = right-1\n",
    "            \n",
    "        elif(arr[left] + arr[right]<sum):\n",
    "            left=left+1\n",
    "            \n",
    "        elif(arr[left]+arr[right]==sum):\n",
    "             print(\"values of pair are\",arr[left], \"&\", arr[right])\n",
    "             right = right-1\n",
    "             left = left+1\n",
    "             \n",
    "arr = [5,7,4,3,9,8,19,21]\n",
    "sum = 17\n",
    "twosum(arr,sum)"
   ]
  },
  {
   "cell_type": "code",
   "execution_count": null,
   "id": "9324fd31-48fd-43da-be0a-21362a254e06",
   "metadata": {},
   "outputs": [],
   "source": []
  }
 ],
 "metadata": {
  "kernelspec": {
   "display_name": "Python 3 (ipykernel)",
   "language": "python",
   "name": "python3"
  },
  "language_info": {
   "codemirror_mode": {
    "name": "ipython",
    "version": 3
   },
   "file_extension": ".py",
   "mimetype": "text/x-python",
   "name": "python",
   "nbconvert_exporter": "python",
   "pygments_lexer": "ipython3",
   "version": "3.10.8"
  }
 },
 "nbformat": 4,
 "nbformat_minor": 5
}
